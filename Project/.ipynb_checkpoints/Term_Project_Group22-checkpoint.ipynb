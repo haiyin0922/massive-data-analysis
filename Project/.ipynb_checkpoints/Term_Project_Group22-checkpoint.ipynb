{
 "cells": [
  {
   "cell_type": "markdown",
   "metadata": {},
   "source": [
    "# Term Project\n",
    "## 105072123 黃海茵"
   ]
  },
  {
   "cell_type": "code",
   "execution_count": 1,
   "metadata": {},
   "outputs": [],
   "source": [
    "from pyspark import SparkConf, SparkContext\n",
    "import pyspark\n",
    "import math"
   ]
  },
  {
   "cell_type": "markdown",
   "metadata": {},
   "source": [
    "# Mapper\n",
    "## aver\n",
    "* 算出每個 movie 的平均 rating\n",
    "* 回傳 ((movieId, rating mean), [(userId, rating)...])"
   ]
  },
  {
   "cell_type": "code",
   "execution_count": 2,
   "metadata": {},
   "outputs": [],
   "source": [
    "def aver(line):\n",
    "    S = 0.0\n",
    "    for i in line[1]:\n",
    "        S += i[1]\n",
    "    \n",
    "    return ((line[0], S/len(line[1])), line[1])"
   ]
  },
  {
   "cell_type": "markdown",
   "metadata": {},
   "source": [
    "## sub\n",
    "* 算出每部 movie 的 rating - rating mean\n",
    "* 回傳 (movieId, [(userId, rating - mean)...]"
   ]
  },
  {
   "cell_type": "code",
   "execution_count": 3,
   "metadata": {},
   "outputs": [],
   "source": [
    "def sub(line):\n",
    "    M = []\n",
    "    for i in line[1]:\n",
    "        M.append((i[0], i[1]-line[0][1]))\n",
    "\n",
    "    return (line[0][0], M)"
   ]
  },
  {
   "cell_type": "markdown",
   "metadata": {},
   "source": [
    "## sqrt\n",
    "* 算出每個 movie 的 rating - rating mean 根號平方和\n",
    "* 回傳 (movieId, rating - rating mean 根號平方和)"
   ]
  },
  {
   "cell_type": "code",
   "execution_count": 4,
   "metadata": {},
   "outputs": [],
   "source": [
    "def sqrt(line):\n",
    "    S = 0.0\n",
    "    for i in line[1]:\n",
    "        S += i[1]**2\n",
    "    \n",
    "    return (line[0], S**0.5)"
   ]
  },
  {
   "cell_type": "markdown",
   "metadata": {},
   "source": [
    "## mul\n",
    "* 算出每個 movie pair 的 rating - rating mean 乘積\n",
    "* 回傳 [((movieId, movieId), rating - rating mean 乘積)...]"
   ]
  },
  {
   "cell_type": "code",
   "execution_count": 5,
   "metadata": {},
   "outputs": [],
   "source": [
    "def mul(line):\n",
    "    M = []\n",
    "    for i in range(len(line[1])-1):\n",
    "        for j in range(i+1, len(line[1])):\n",
    "            if line[1][i][0] < line[1][j][0]:\n",
    "                M.append(((line[1][i][0], line[1][j][0]), line[1][i][1] * line[1][j][1]))\n",
    "            else:\n",
    "                M.append(((line[1][j][0], line[1][i][0]), line[1][i][1] * line[1][j][1]))\n",
    "            \n",
    "    return M"
   ]
  },
  {
   "cell_type": "markdown",
   "metadata": {},
   "source": [
    "## cos_sim\n",
    "* 算出每兩部電影的 cosine similarity\n",
    "* 回傳 ((movieId, movieId), similarity)\n",
    "* 看到討論區助教有說 \"同學可以將 rdd collect() 成 list 餵給其他人當參數用，然後用 map reduce 算結果\"\n",
    "* 所以分母直接使用前面存在 dictionary 中的資料"
   ]
  },
  {
   "cell_type": "code",
   "execution_count": 6,
   "metadata": {},
   "outputs": [],
   "source": [
    "def cos_sim(line):\n",
    "    if D[line[0][0]]*D[line[0][1]] == 0:\n",
    "        return (line[0], 0)\n",
    "    else:\n",
    "        return (line[0], line[1] / (D[line[0][0]]*D[line[0][1]]))"
   ]
  },
  {
   "cell_type": "markdown",
   "metadata": {},
   "source": [
    "## change_key\n",
    "* 把原本的 (movieId, [(userId, rating - mean)...] 換成 (userId, [(movieId, rating - mean)...]\n",
    "* 方便後續的 map reduce 動作"
   ]
  },
  {
   "cell_type": "code",
   "execution_count": 7,
   "metadata": {},
   "outputs": [],
   "source": [
    "def change_key(line):\n",
    "    M = []\n",
    "    for i in line[1]:\n",
    "        M.append((i[0], (line[0], i[1])))\n",
    "        \n",
    "    return M"
   ]
  },
  {
   "cell_type": "markdown",
   "metadata": {},
   "source": [
    "## movie_list\n",
    "* 回傳 (userId, [沒有 rating 的 movieId]) \n",
    "* 方便後續求 prediction"
   ]
  },
  {
   "cell_type": "code",
   "execution_count": 8,
   "metadata": {},
   "outputs": [],
   "source": [
    "def movie_list(line):\n",
    "    M = []\n",
    "    for i in line[1]:\n",
    "        M.append(i[0])\n",
    "        \n",
    "    return (line[0], list(set(movie_collect)-set(M)))"
   ]
  },
  {
   "cell_type": "markdown",
   "metadata": {},
   "source": [
    "## rating_prediction\n",
    "* M 中存的資料為 top 10 的 (similarity, rating)，方便做分子的乘積\n",
    "* 如果預測的 rating 為負數，或是分母為 0 就刪去\n",
    "* 回傳 (userId, [(movieId, rating)...])"
   ]
  },
  {
   "cell_type": "code",
   "execution_count": 9,
   "metadata": {},
   "outputs": [],
   "source": [
    "def rating_predict(line):\n",
    "    r = []\n",
    "    for i in line[1][0]:\n",
    "        M = []\n",
    "        for j in line[1][1]:\n",
    "            if len(M) < 2 and (i in D_sim and j[0] in D_sim[i] or j[0] in D_sim and i in D_sim[j[0]]):\n",
    "                if i in D_sim and j[0] in D_sim[i]:\n",
    "                    M.append((D_sim[i][j[0]], j[1]))\n",
    "                else:\n",
    "                    M.append((D_sim[j[0]][i], j[1]))\n",
    "            elif i in D_sim and j[0] in D_sim[i] or j[0] in D_sim and i in D_sim[j[0]]:\n",
    "                if i in D_sim and j[0] in D_sim[i] and D_sim[i][j[0]] > min(M)[0]:\n",
    "                    M.remove(min(M))\n",
    "                    M.append((D_sim[i][j[0]], j[1]))\n",
    "                elif j[0] in D_sim and i in D_sim[j[0]] and D_sim[j[0]][i] > min(M)[0]:\n",
    "                    M.remove(min(M))\n",
    "                    M.append((D_sim[j[0]][i], j[1]))\n",
    "                    \n",
    "        p = 0\n",
    "        q = 0\n",
    "        for k in M:\n",
    "            p += k[0] * k[1]\n",
    "            q += k[0]\n",
    "        if q != 0 and p/q > 0 and p/q <= 5:\n",
    "            r.append((i, p/q))\n",
    "        \n",
    "    return (line[0], r)    "
   ]
  },
  {
   "cell_type": "markdown",
   "metadata": {},
   "source": [
    "# reducer\n",
    "* x + y"
   ]
  },
  {
   "cell_type": "code",
   "execution_count": 10,
   "metadata": {},
   "outputs": [],
   "source": [
    "def reducer(x, y):\n",
    "    return x + y"
   ]
  },
  {
   "cell_type": "markdown",
   "metadata": {},
   "source": [
    "## 讀資料\n",
    "* 討論區中助教提到可以把 driver memory 開大一點，所以我就用了助教的方式來做\n",
    "* 然後先將 input data 中的 ratings.csv 讀進來\n",
    "* 以 movieId 作為 data 的 key，(userId, rating) 作為 value"
   ]
  },
  {
   "cell_type": "code",
   "execution_count": 11,
   "metadata": {},
   "outputs": [],
   "source": [
    "conf = SparkConf().set(\"spark.default.parallelism\", 4).setAppName(\"Term_Project_Group22\") \\\n",
    "    .set('spark.driver.memory', '150G') \\\n",
    "    .set('spark.driver.maxResultSize', '4G')\n",
    "sc = SparkContext.getOrCreate(conf=conf)\n",
    "\n",
    "data = sc.textFile(\"ml-latest-small/testing.csv\").map(lambda x: x.split(',')).filter(lambda x: x[0] != 'userId')\n",
    "data2 = data.map(lambda x: (int(x[1]), (int(x[0]), float(x[2])))).groupByKey().mapValues(list)\n",
    "#print(sorted(data2.collect()))"
   ]
  },
  {
   "cell_type": "markdown",
   "metadata": {},
   "source": [
    "* (movieId, rating mean), [(userId, rating)...]"
   ]
  },
  {
   "cell_type": "code",
   "execution_count": 12,
   "metadata": {
    "scrolled": true
   },
   "outputs": [],
   "source": [
    "rating_aver = data2.map(aver)\n",
    "#rating_aver_collect = sorted(rating_aver.collect())\n",
    "#print(rating_aver_collect)"
   ]
  },
  {
   "cell_type": "markdown",
   "metadata": {},
   "source": [
    "* (movieId, [(userId, rating - rating mean)...])"
   ]
  },
  {
   "cell_type": "code",
   "execution_count": 13,
   "metadata": {},
   "outputs": [],
   "source": [
    "sub_mean = rating_aver.map(sub)\n",
    "#sub_mean_collect = sorted(sub_mean.collect())\n",
    "#print(sub_mean_collect)"
   ]
  },
  {
   "cell_type": "markdown",
   "metadata": {},
   "source": [
    "* (movieId, rating - rating mean 根號平方和)"
   ]
  },
  {
   "cell_type": "code",
   "execution_count": 14,
   "metadata": {
    "scrolled": true
   },
   "outputs": [],
   "source": [
    "rating_sqrt = sub_mean.map(sqrt)\n",
    "rating_sqrt_collect = sorted(rating_sqrt.collect())\n",
    "#print(rating_sqrt_collect)"
   ]
  },
  {
   "cell_type": "markdown",
   "metadata": {},
   "source": [
    "* 前面的 rdd collect() 成 list 後，存到 dictionary 中，方便操作\n",
    "* D[movieId] = rating - mean"
   ]
  },
  {
   "cell_type": "code",
   "execution_count": 15,
   "metadata": {},
   "outputs": [],
   "source": [
    "D = {}\n",
    "for i in rating_sqrt_collect:\n",
    "    D[i[0]] = i[1]\n",
    "#print(D)    "
   ]
  },
  {
   "cell_type": "markdown",
   "metadata": {},
   "source": [
    "* (userId, [(movieId, rating - mean)...])"
   ]
  },
  {
   "cell_type": "code",
   "execution_count": 16,
   "metadata": {
    "scrolled": true
   },
   "outputs": [],
   "source": [
    "sub_mean2 = sub_mean.flatMap(change_key).groupByKey().mapValues(list)\n",
    "#sub_mean2_collect = sorted(sub_mean2.collect())\n",
    "#print(sub_mean2_collect)"
   ]
  },
  {
   "cell_type": "markdown",
   "metadata": {},
   "source": [
    "* ((movieId, movieId), rx*ry)"
   ]
  },
  {
   "cell_type": "code",
   "execution_count": 17,
   "metadata": {},
   "outputs": [],
   "source": [
    "numerator = sub_mean2.flatMap(mul).reduceByKey(reducer)\n",
    "#numerator_collect = sorted(numerator.collect())\n",
    "#print(numerator_collect)"
   ]
  },
  {
   "cell_type": "markdown",
   "metadata": {},
   "source": [
    "* ((movieId, movieId), similarity)\n",
    "* 把 similarity 為 0 的過濾掉"
   ]
  },
  {
   "cell_type": "code",
   "execution_count": 18,
   "metadata": {
    "scrolled": false
   },
   "outputs": [],
   "source": [
    "sim = numerator.map(cos_sim).filter(lambda x: x[1] != 0)"
   ]
  },
  {
   "cell_type": "code",
   "execution_count": 19,
   "metadata": {},
   "outputs": [],
   "source": [
    "sim_collect = sorted(sim.collect())\n",
    "#print(sim_collect)"
   ]
  },
  {
   "cell_type": "markdown",
   "metadata": {},
   "source": [
    "* 太大無法直接 print，memory 會爆掉\n",
    "* 所以寫成 txt 檔"
   ]
  },
  {
   "cell_type": "code",
   "execution_count": 20,
   "metadata": {},
   "outputs": [],
   "source": [
    "with open('Output_basic.txt', 'w') as f:\n",
    "    for i in sim_collect:\n",
    "        f.write('(' + str(i[0][0]) + ', ' + str(i[0][1]) +  '), ' + str(i[1]) + '\\n')"
   ]
  },
  {
   "cell_type": "markdown",
   "metadata": {},
   "source": [
    "* 前面的 rdd collect() 成 list 後，存到 2D-dictionary 中，方便操作\n",
    "* D_sim[movieId][movieId] = similarity"
   ]
  },
  {
   "cell_type": "code",
   "execution_count": 21,
   "metadata": {},
   "outputs": [],
   "source": [
    "D_sim = {}\n",
    "for i in sim_collect:\n",
    "    if i[0][0] in D_sim:\n",
    "        D_sim[i[0][0]].update({i[0][1]: i[1]})\n",
    "    else:\n",
    "        D_sim.update({i[0][0]:{i[0][1]: i[1]}})\n",
    "#print(D_sim)"
   ]
  },
  {
   "cell_type": "markdown",
   "metadata": {},
   "source": [
    "* (userId, [(movieId, rating)...])"
   ]
  },
  {
   "cell_type": "code",
   "execution_count": 22,
   "metadata": {},
   "outputs": [],
   "source": [
    "data3 = data.map(lambda x: (int(x[0]), (int(x[1]), float(x[2])))).groupByKey().mapValues(list)\n",
    "#print(sorted(data3.collect()))"
   ]
  },
  {
   "cell_type": "markdown",
   "metadata": {},
   "source": [
    "* movie 包含了全部的 movieId"
   ]
  },
  {
   "cell_type": "code",
   "execution_count": 23,
   "metadata": {},
   "outputs": [],
   "source": [
    "movie = rating_sqrt.map(lambda x: x[0])\n",
    "movie_collect = sorted(movie.collect())\n",
    "#print(movie_collect)"
   ]
  },
  {
   "cell_type": "markdown",
   "metadata": {},
   "source": [
    "* (userId, ([無 rating 的 movieId], [(movieId, rating)...]))"
   ]
  },
  {
   "cell_type": "code",
   "execution_count": 24,
   "metadata": {},
   "outputs": [],
   "source": [
    "user_movie = sub_mean2.map(movie_list).join(data3)\n",
    "#user_movie_collect = sorted(user_movie.collect())\n",
    "#print(user_movie_collect)"
   ]
  },
  {
   "cell_type": "markdown",
   "metadata": {},
   "source": [
    "* (userId, [(movieId, rating)...])"
   ]
  },
  {
   "cell_type": "code",
   "execution_count": 25,
   "metadata": {},
   "outputs": [],
   "source": [
    "prediction = user_movie.map(rating_predict)"
   ]
  },
  {
   "cell_type": "code",
   "execution_count": null,
   "metadata": {},
   "outputs": [],
   "source": [
    "prediction_collect = sorted(prediction.collect())\n",
    "#print(prediction_collect)"
   ]
  },
  {
   "cell_type": "markdown",
   "metadata": {},
   "source": [
    "* 太大無法直接 print，memory 會爆掉\n",
    "* 所以寫成 txt 檔"
   ]
  },
  {
   "cell_type": "code",
   "execution_count": null,
   "metadata": {},
   "outputs": [],
   "source": [
    "with open('Output_predict.txt', 'w') as f:\n",
    "    for i in prediction_collect:\n",
    "        for j in i[1]:\n",
    "            f.write('(' + str(i[0]) + ', ' + str(j[0]) +  '), ' + str(j[1]) + '\\n')\n",
    "        \n",
    "sc.stop()"
   ]
  },
  {
   "cell_type": "code",
   "execution_count": null,
   "metadata": {},
   "outputs": [],
   "source": []
  }
 ],
 "metadata": {
  "kernelspec": {
   "display_name": "Python 3",
   "language": "python",
   "name": "python3"
  },
  "language_info": {
   "codemirror_mode": {
    "name": "ipython",
    "version": 3
   },
   "file_extension": ".py",
   "mimetype": "text/x-python",
   "name": "python",
   "nbconvert_exporter": "python",
   "pygments_lexer": "ipython3",
   "version": "3.6.8"
  }
 },
 "nbformat": 4,
 "nbformat_minor": 4
}
