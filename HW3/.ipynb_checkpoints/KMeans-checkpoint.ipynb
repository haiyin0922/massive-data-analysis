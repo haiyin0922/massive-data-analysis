{
 "cells": [
  {
   "cell_type": "markdown",
   "metadata": {},
   "source": [
    "# MDA HW3 KMeans\n",
    "# 105072123 黃海茵"
   ]
  },
  {
   "cell_type": "markdown",
   "metadata": {},
   "source": [
    "## import"
   ]
  },
  {
   "cell_type": "code",
   "execution_count": 1,
   "metadata": {},
   "outputs": [],
   "source": [
    "from pyspark import SparkConf, SparkContext\n",
    "import pyspark\n",
    "import numpy as np\n",
    "import matplotlib.pyplot as plt\n",
    "import pandas as pd\n",
    "import math\n",
    "import csv"
   ]
  },
  {
   "cell_type": "markdown",
   "metadata": {},
   "source": [
    "## str_float\n",
    " * 為了方便計算，先把數字從string轉為float\n",
    " * 並把key都設為-1，就可以使用groupByKey"
   ]
  },
  {
   "cell_type": "code",
   "execution_count": 2,
   "metadata": {},
   "outputs": [],
   "source": [
    "def str_float(line):\n",
    "    for i in range(len(line)):\n",
    "        line[i] = float(line[i])\n",
    "        \n",
    "    return (-1, line)"
   ]
  },
  {
   "cell_type": "markdown",
   "metadata": {},
   "source": [
    "## Euc_Mapper\n",
    "* 用來找出離該點最近的centroid，並設成key\n",
    "* cost計算方式為Euclidean"
   ]
  },
  {
   "cell_type": "code",
   "execution_count": 3,
   "metadata": {},
   "outputs": [],
   "source": [
    "def Euc_Mapper(line):    \n",
    "    min_cost = 3.40282e+038\n",
    "    for i in range(10):\n",
    "        cost = 0.0\n",
    "        for j in range(58):\n",
    "            cost += (line[1][0][j]-line[1][1][i][j]) * (line[1][0][j]-line[1][1][i][j])\n",
    "        if cost < min_cost:\n",
    "            min_cost = cost\n",
    "            min_c = i\n",
    "  \n",
    "    return (min_c, line[1][0])"
   ]
  },
  {
   "cell_type": "markdown",
   "metadata": {},
   "source": [
    "## Man_Mapper\n",
    "* 用來找出離該點最近的centroid，並設成key\n",
    "* cost計算方式為Manhattan"
   ]
  },
  {
   "cell_type": "code",
   "execution_count": 4,
   "metadata": {},
   "outputs": [],
   "source": [
    "def Man_Mapper(line):    \n",
    "    min_cost = 3.40282e+038\n",
    "    for i in range(10):\n",
    "        cost = 0.0\n",
    "        for j in range(58):\n",
    "            cost += abs(line[1][0][j] - line[1][1][i][j])\n",
    "        if cost < min_cost:\n",
    "            min_cost = cost\n",
    "            min_c = i\n",
    "  \n",
    "    return (min_c, line[1][0])"
   ]
  },
  {
   "cell_type": "markdown",
   "metadata": {},
   "source": [
    "## Euc_Cost\n",
    "* 用來找出最小的cost，cost計算方式為Euclidean\n",
    "* 並把key都設為-1，就可以使用reduceByKey"
   ]
  },
  {
   "cell_type": "code",
   "execution_count": 5,
   "metadata": {},
   "outputs": [],
   "source": [
    "def Euc_Cost(line):\n",
    "    min_cost = 3.40282e+038\n",
    "    for i in range(10):\n",
    "        cost = 0.0\n",
    "        for j in range(58):\n",
    "            cost += (line[1][0][j]-line[1][1][i][j]) * (line[1][0][j]-line[1][1][i][j])\n",
    "        if cost < min_cost:\n",
    "            min_cost = cost\n",
    "  \n",
    "    return (-1, min_cost)"
   ]
  },
  {
   "cell_type": "markdown",
   "metadata": {},
   "source": [
    "## Man_Cost\n",
    "* 用來找出最小的cost，cost計算方式為Manhattan\n",
    "* 並把key都設為-1，就可以使用reduceByKey\n"
   ]
  },
  {
   "cell_type": "code",
   "execution_count": 6,
   "metadata": {},
   "outputs": [],
   "source": [
    "def Man_Cost(line):\n",
    "    min_cost = 3.40282e+038\n",
    "    for i in range(10):\n",
    "        cost = 0.0\n",
    "        for j in range(58):\n",
    "            cost += abs(line[1][0][j] - line[1][1][i][j])\n",
    "        if cost < min_cost:\n",
    "            min_cost = cost\n",
    "  \n",
    "    return (-1, min_cost)"
   ]
  },
  {
   "cell_type": "markdown",
   "metadata": {},
   "source": [
    "## Euc_Dist\n",
    "* 用來計算各個centroid之間的距離\n",
    "* dist計算方式為Euclidean"
   ]
  },
  {
   "cell_type": "code",
   "execution_count": 20,
   "metadata": {},
   "outputs": [],
   "source": [
    "def Euc_Dist(line):\n",
    "    maplist = []\n",
    "    maplist.append(line[0]+1)\n",
    "    for i in range(10):\n",
    "        dist = 0.0\n",
    "        for j in range(58):\n",
    "            dist += (line[1][j]-line[1][58*(i+1) + j]) * (line[1][j]-line[1][58*(i+1) + j])\n",
    "        maplist.append(math.sqrt(dist))\n",
    "        \n",
    "    return maplist"
   ]
  },
  {
   "cell_type": "markdown",
   "metadata": {},
   "source": [
    "## Man_Dist\n",
    "* 用來計算各個centroid之間的距離\n",
    "* dist計算方式為Manhattan\n"
   ]
  },
  {
   "cell_type": "code",
   "execution_count": 21,
   "metadata": {},
   "outputs": [],
   "source": [
    "def Man_Dist(line):\n",
    "    maplist = []\n",
    "    maplist.append(line[0]+1)\n",
    "    for i in range(10): \n",
    "        dist = 0.0\n",
    "        for j in range(58):\n",
    "            dist += abs(line[1][j] - line[1][58*(i+1) + j])\n",
    "        maplist.append(dist)\n",
    "        \n",
    "    return maplist"
   ]
  },
  {
   "cell_type": "markdown",
   "metadata": {},
   "source": [
    "## new_centroid\n",
    "* 用來找出每個cluster的新centroid\n",
    "* 計算方式為每個點的平均值"
   ]
  },
  {
   "cell_type": "code",
   "execution_count": 9,
   "metadata": {},
   "outputs": [],
   "source": [
    "def new_centroid(line):\n",
    "    new_c = []\n",
    "    for i in range(58):\n",
    "        s = 0.0\n",
    "        for j in range(len(line[1])):\n",
    "            s += line[1][j][i]\n",
    "        new_c.append(s/len(line[1]))\n",
    "        \n",
    "    return (line[0], new_c)"
   ]
  },
  {
   "cell_type": "markdown",
   "metadata": {},
   "source": [
    "## 宣告spark並讀取資料"
   ]
  },
  {
   "cell_type": "code",
   "execution_count": 10,
   "metadata": {
    "scrolled": false
   },
   "outputs": [],
   "source": [
    "conf = SparkConf().set(\"spark.default.parallelism\", 4).setAppName(\"KMeans\")\n",
    "sc = SparkContext.getOrCreate(conf=conf)\n",
    "data = sc.textFile(\"./hw3-q2-kmeans/data.txt\").map(lambda x: x.split(' ')).map(str_float)\n",
    "c1 = sc.textFile(\"./hw3-q2-kmeans/c1.txt\").map(lambda x: x.split(' ')).map(str_float).groupByKey().mapValues(list)\n",
    "c2 = sc.textFile(\"./hw3-q2-kmeans/c2.txt\").map(lambda x: x.split(' ')).map(str_float).groupByKey().mapValues(list)"
   ]
  },
  {
   "cell_type": "markdown",
   "metadata": {},
   "source": [
    "## 把data跟centroid join在一起\n",
    "* 使用Euc_Mapper找出該點屬於哪個cluster\n",
    "* 使用Euc_Cost找出該點最小的cost"
   ]
  },
  {
   "cell_type": "code",
   "execution_count": 11,
   "metadata": {},
   "outputs": [],
   "source": [
    "euc_c1 = data.join(c1).map(Euc_Mapper).groupByKey().mapValues(list)\n",
    "euc_c1_cost = data.join(c1).map(Euc_Cost).reduceByKey(lambda x, y: x + y)"
   ]
  },
  {
   "cell_type": "code",
   "execution_count": 12,
   "metadata": {},
   "outputs": [],
   "source": [
    "euc_c2 = data.join(c2).map(Euc_Mapper).groupByKey().mapValues(list)\n",
    "euc_c2_cost = data.join(c2).map(Euc_Cost).reduceByKey(lambda x, y: x + y)"
   ]
  },
  {
   "cell_type": "markdown",
   "metadata": {},
   "source": [
    "## Euclidean C1 iteration\n",
    "* 前面已經做過一次，所以再重複19次"
   ]
  },
  {
   "cell_type": "code",
   "execution_count": 13,
   "metadata": {},
   "outputs": [],
   "source": [
    "for i in range(19):\n",
    "    c1 = euc_c1.map(new_centroid).sortByKey(ascending=True).map(lambda x: (-1, x[1])).groupByKey().mapValues(list)\n",
    "    euc_c1 = data.join(c1).map(Euc_Mapper).groupByKey().mapValues(list)\n",
    "    cost = data.join(c1).map(Euc_Cost).reduceByKey(lambda x, y: x + y)\n",
    "    euc_c1_cost = euc_c1_cost.union(cost)\n",
    "    if i == 18:\n",
    "        c1 = euc_c1.map(new_centroid).sortByKey(ascending=True).mapValues(list)"
   ]
  },
  {
   "cell_type": "markdown",
   "metadata": {},
   "source": [
    "## 去掉所有cost的key並collect起來"
   ]
  },
  {
   "cell_type": "code",
   "execution_count": 14,
   "metadata": {},
   "outputs": [
    {
     "name": "stdout",
     "output_type": "stream",
     "text": [
      "[623660345.3064234, 509862908.29754597, 485480681.8720084, 463997011.6850107, 460969266.572994, 460537847.98277014, 460313099.65354246, 460003523.8894068, 459570539.3177353, 459021103.3422901, 458490656.1919807, 457944232.5879742, 457558005.1986797, 457290136.3523032, 457050555.0595638, 456892235.6153574, 456703630.7370357, 456404203.0189769, 456177800.54199505, 455986871.0273484]\n"
     ]
    }
   ],
   "source": [
    "euc_c1_cost20 = euc_c1_cost.map(lambda x: x[1]).collect()\n",
    "print(euc_c1_cost20)"
   ]
  },
  {
   "cell_type": "markdown",
   "metadata": {},
   "source": [
    "## Euclidean C2 iteration\n",
    "* 前面已經做過一次，所以再重複19次"
   ]
  },
  {
   "cell_type": "code",
   "execution_count": 15,
   "metadata": {},
   "outputs": [],
   "source": [
    "for i in range(19):\n",
    "    c2 = euc_c2.map(new_centroid).sortByKey(ascending=True).map(lambda x: (-1, x[1])).groupByKey().mapValues(list)\n",
    "    euc_c2 = data.join(c2).map(Euc_Mapper).groupByKey().mapValues(list)\n",
    "    cost = data.join(c2).map(Euc_Cost).reduceByKey(lambda x, y: x + y)\n",
    "    euc_c2_cost = euc_c2_cost.union(cost)\n",
    "    if i == 18:\n",
    "        c2 = euc_c2.map(new_centroid).sortByKey(ascending=True).mapValues(list)"
   ]
  },
  {
   "cell_type": "markdown",
   "metadata": {},
   "source": [
    "## 去掉所有cost的key並collect起來"
   ]
  },
  {
   "cell_type": "code",
   "execution_count": 16,
   "metadata": {},
   "outputs": [
    {
     "name": "stdout",
     "output_type": "stream",
     "text": [
      "[438747790.027918, 249803933.62600294, 194494814.40631396, 169804841.45154336, 156295748.806276, 149094208.10896608, 142508531.61961588, 132303869.40653005, 117170969.83719078, 108547377.17857017, 102237203.31799614, 98278015.74975717, 95630226.12177444, 93793314.05119292, 92377131.96821107, 91541606.25423913, 91045573.83042423, 90752240.10140839, 90470170.18122767, 90216416.17563146]\n"
     ]
    }
   ],
   "source": [
    "euc_c2_cost20 = euc_c2_cost.map(lambda x: x[1]).collect()\n",
    "print(euc_c2_cost20)"
   ]
  },
  {
   "cell_type": "markdown",
   "metadata": {},
   "source": [
    "## 產生每round的cost表格以及圖表"
   ]
  },
  {
   "cell_type": "code",
   "execution_count": 17,
   "metadata": {},
   "outputs": [
    {
     "name": "stdout",
     "output_type": "stream",
     "text": [
      "                    C1            C2\n",
      "Round 1   6.236603e+08  4.387478e+08\n",
      "Round 2   5.098629e+08  2.498039e+08\n",
      "Round 3   4.854807e+08  1.944948e+08\n",
      "Round 4   4.639970e+08  1.698048e+08\n",
      "Round 5   4.609693e+08  1.562957e+08\n",
      "Round 6   4.605378e+08  1.490942e+08\n",
      "Round 7   4.603131e+08  1.425085e+08\n",
      "Round 8   4.600035e+08  1.323039e+08\n",
      "Round 9   4.595705e+08  1.171710e+08\n",
      "Round 10  4.590211e+08  1.085474e+08\n",
      "Round 11  4.584907e+08  1.022372e+08\n",
      "Round 12  4.579442e+08  9.827802e+07\n",
      "Round 13  4.575580e+08  9.563023e+07\n",
      "Round 14  4.572901e+08  9.379331e+07\n",
      "Round 15  4.570506e+08  9.237713e+07\n",
      "Round 16  4.568922e+08  9.154161e+07\n",
      "Round 17  4.567036e+08  9.104557e+07\n",
      "Round 18  4.564042e+08  9.075224e+07\n",
      "Round 19  4.561778e+08  9.047017e+07\n",
      "Round 20  4.559869e+08  9.021642e+07\n"
     ]
    },
    {
     "data": {
      "image/png": "[encoded data removed]",
      "text/plain": [
       "<Figure size 900x600 with 1 Axes>"
      ]
     },
     "metadata": {
      "needs_background": "light"
     },
     "output_type": "display_data"
    }
   ],
   "source": [
    "Round = []\n",
    "for i in range(20):\n",
    "    Round.append('Round ' + str(i+1))\n",
    "    \n",
    "dic = {'C1': euc_c1_cost20, 'C2': euc_c2_cost20}\n",
    "df = pd.DataFrame(dic, index = Round)\n",
    "print(df)\n",
    "\n",
    "Round = []\n",
    "for i in range(20):\n",
    "    Round.append(str(i))\n",
    "    \n",
    "plt.figure(figsize=(9, 6), dpi = 100, linewidth = 2)\n",
    "plt.plot(Round, euc_c1_cost20, 's-', color = 'b', label = \"C1\")\n",
    "plt.plot(Round, euc_c2_cost20, 'o-', color = 'y', label = \"C2\")\n",
    "plt.title('C1 v.s. C2\\nEuclidean Cost Function')\n",
    "plt.xlabel('Round')\n",
    "plt.ylabel('Cost')\n",
    "plt.legend(loc = 'best')\n",
    "plt.show()"
   ]
  },
  {
   "cell_type": "markdown",
   "metadata": {},
   "source": [
    "## 把所有使用C1的cost union起來"
   ]
  },
  {
   "cell_type": "code",
   "execution_count": 18,
   "metadata": {},
   "outputs": [],
   "source": [
    "temp_c1 = c1\n",
    "for i in range(10):\n",
    "    c1_20 = c1.map(lambda x: (i, x[1]))\n",
    "    temp_c1 = temp_c1.union(c1_20).reduceByKey(lambda x, y: x + y)"
   ]
  },
  {
   "cell_type": "markdown",
   "metadata": {},
   "source": [
    "## 計算各個centroid之間的Euclidean距離"
   ]
  },
  {
   "cell_type": "code",
   "execution_count": 22,
   "metadata": {},
   "outputs": [
    {
     "name": "stdout",
     "output_type": "stream",
     "text": [
      "[[1, 0.0, 692.1578865536187, 3490.2586403239793, 205.75027883457204, 346.71882253414816, 512.6122467083617, 444.7310005470825, 566.2019922936282, 1282.7708445154385, 307.66912835221507], [2, 692.1578865536187, 0.0, 2798.8010531589434, 897.6589863450828, 1038.8268882911389, 1204.0781989863117, 1136.3273438149283, 1257.4495275592424, 669.8902282318555, 412.076077167744], [3, 3490.2586403239793, 2798.8010531589434, 0.0, 3695.114191079636, 3836.9066381524567, 4002.6890825730284, 3934.8715588311575, 4056.1355729719103, 2294.57964158953, 3195.9239010108936], [4, 205.75027883457204, 897.6589863450828, 3695.114191079636, 0.0, 142.43887392408647, 309.50632446700047, 241.7301145044183, 363.2628951046584, 1474.9454213642691, 504.63411599571515], [5, 346.71882253414816, 1038.8268882911389, 3836.9066381524567, 142.43887392408647, 0.0, 167.1498001315246, 99.54554331498562, 220.90178372040566, 1615.852353440387, 646.9305638786212], [6, 512.6122467083617, 1204.0781989863117, 4002.6890825730284, 309.50632446700047, 167.1498001315246, 0.0, 67.91186107588504, 53.78989116172683, 1782.2030486002302, 814.0761501339795], [7, 444.7310005470825, 1136.3273438149283, 3934.8715588311575, 241.7301145044183, 99.54554331498562, 67.91186107588504, 0.0, 121.63372043718282, 1715.2531997144126, 746.3355586141014], [8, 566.2019922936282, 1257.4495275592424, 4056.1355729719103, 363.2628951046584, 220.90178372040566, 53.78989116172683, 121.63372043718282, 0.0, 1835.6396718448902, 867.8230790917461], [9, 1282.7708445154385, 669.8902282318555, 2294.57964158953, 1474.9454213642691, 1615.852353440387, 1782.2030486002302, 1715.2531997144126, 1835.6396718448902, 0.0, 975.3204225971708], [10, 307.66912835221507, 412.076077167744, 3195.9239010108936, 504.63411599571515, 646.9305638786212, 814.0761501339795, 746.3355586141014, 867.8230790917461, 975.3204225971708, 0.0]]\n"
     ]
    }
   ],
   "source": [
    "euc_c1_euc = temp_c1.map(Euc_Dist).collect()\n",
    "print(euc_c1_euc)"
   ]
  },
  {
   "cell_type": "markdown",
   "metadata": {},
   "source": [
    "## 寫入csv檔"
   ]
  },
  {
   "cell_type": "code",
   "execution_count": 23,
   "metadata": {},
   "outputs": [],
   "source": [
    "with open('./euc_c1_euc.csv', 'w', newline='') as csvFile:\n",
    "    fields = ['Euclidean', '1', '2', '3', '4', '5', '6', '7', '8', '9', '10']\n",
    "    writer = csv.DictWriter(csvFile, fieldnames=fields)\n",
    "    writer.writeheader()\n",
    "    for i in euc_c1_euc:\n",
    "        writer.writerow({'Euclidean':i[0], '1':i[1], '2':i[2], '3':i[3], '4':i[4], '5':i[5], '6':i[6], '7':i[7], '8':i[8], '9':i[9], '10':i[10]})"
   ]
  },
  {
   "cell_type": "markdown",
   "metadata": {},
   "source": [
    "## 計算各個centroid之間的Manhattan距離"
   ]
  },
  {
   "cell_type": "code",
   "execution_count": 24,
   "metadata": {},
   "outputs": [
    {
     "name": "stdout",
     "output_type": "stream",
     "text": [
      "[[1, 0.0, 728.9243139995409, 3797.8990780180675, 212.18109038688195, 374.8904224625678, 577.4020758222025, 499.1578939470968, 645.7697774866793, 1731.0643066429416, 406.70122510554586], [2, 728.9243139995409, 0.0, 3072.8886904466503, 935.8853379058191, 1100.833091013825, 1303.8957233218873, 1225.351713180189, 1372.0922054892176, 1005.2930456989247, 490.9280581546785], [3, 3797.8990780180675, 3072.8886904466503, 0.0, 4001.0380519416276, 4170.304532612548, 4372.788718801669, 4294.952834221333, 4440.719767637059, 2513.422660256411, 3396.4200031055902], [4, 212.18109038688195, 935.8853379058191, 4001.0380519416276, 0.0, 171.3651541556152, 375.2479208943975, 296.25472354226696, 443.49844537759145, 1934.086959807074, 609.749321623295], [5, 374.8904224625678, 1100.833091013825, 4170.304532612548, 171.3651541556152, 0.0, 204.52292364239253, 125.59678617977005, 272.93491284339433, 2102.8649228110594, 779.3972267080745], [6, 577.4020758222025, 1303.8957233218873, 4372.788718801669, 375.2479208943975, 204.52292364239253, 0.0, 79.40168444202222, 69.58987631971816, 2306.3802505970657, 983.019680661424], [7, 499.1578939470968, 1225.351713180189, 4294.952834221333, 296.25472354226696, 125.59678617977005, 79.40168444202222, 0.0, 147.86570909768562, 2227.555856782107, 904.3702500156849], [8, 645.7697774866793, 1372.0922054892176, 4440.719767637059, 443.49844537759145, 272.93491284339433, 69.58987631971816, 147.86570909768562, 0.0, 2374.545430478822, 1050.9162214834769], [9, 1731.0643066429416, 1005.2930456989247, 2513.422660256411, 1934.086959807074, 2102.8649228110594, 2306.3802505970657, 2227.555856782107, 2374.545430478822, 0.0, 1327.5839795031056], [10, 406.70122510554586, 490.9280581546785, 3396.4200031055902, 609.749321623295, 779.3972267080745, 983.019680661424, 904.3702500156849, 1050.9162214834769, 1327.5839795031056, 0.0]]\n"
     ]
    }
   ],
   "source": [
    "euc_c1_man = temp_c1.map(Man_Dist).collect()\n",
    "print(euc_c1_man)"
   ]
  },
  {
   "cell_type": "markdown",
   "metadata": {},
   "source": [
    "## 寫入csv檔"
   ]
  },
  {
   "cell_type": "code",
   "execution_count": 25,
   "metadata": {},
   "outputs": [],
   "source": [
    "with open('./euc_c1_man.csv', 'w', newline='') as csvFile:\n",
    "    fields = ['Manhattan', '1', '2', '3', '4', '5', '6', '7', '8', '9', '10']\n",
    "    writer = csv.DictWriter(csvFile, fieldnames=fields)\n",
    "    writer.writeheader()\n",
    "    for i in euc_c1_man:\n",
    "        writer.writerow({'Manhattan':i[0], '1':i[1], '2':i[2], '3':i[3], '4':i[4], '5':i[5], '6':i[6], '7':i[7], '8':i[8], '9':i[9], '10':i[10]})"
   ]
  },
  {
   "cell_type": "markdown",
   "metadata": {},
   "source": [
    "## 把所有使用C2的cost union起來"
   ]
  },
  {
   "cell_type": "code",
   "execution_count": 26,
   "metadata": {},
   "outputs": [],
   "source": [
    "temp_c2 = c2\n",
    "for i in range(10):\n",
    "    c2_20 = c2.map(lambda x: (i, x[1]))\n",
    "    temp_c2 = temp_c2.union(c2_20).reduceByKey(lambda x, y: x + y) "
   ]
  },
  {
   "cell_type": "markdown",
   "metadata": {},
   "source": [
    "## 計算各個centroid之間的Euclidean距離"
   ]
  },
  {
   "cell_type": "code",
   "execution_count": 27,
   "metadata": {},
   "outputs": [
    {
     "name": "stdout",
     "output_type": "stream",
     "text": [
      "[[1, 0.0, 15760.12247224593, 14110.83439088334, 9045.32023455239, 5567.684524118405, 1924.6240815733204, 1100.8590503593277, 402.89054961102914, 2105.4425755929597, 3169.003772849924], [2, 15760.12247224593, 0.0, 11524.505650179837, 6743.88410019246, 10192.525007384162, 14455.11937212132, 14682.450992891092, 15362.417960805125, 13674.707531226235, 12597.039559531104], [3, 14110.83439088334, 11524.505650179837, 0.0, 9545.879403387185, 10883.382187801386, 12233.959804503613, 13208.002933714424, 13786.484182516106, 12508.95738096874, 11938.376127029482], [4, 9045.32023455239, 6743.88410019246, 9545.879403387185, 0.0, 3494.2224155718104, 7718.222009696623, 7957.775949135465, 8644.807041005524, 6947.820636329124, 5876.330199605868], [5, 5567.684524118405, 10192.525007384162, 10883.382187801386, 3494.2224155718104, 0.0, 4404.562590797219, 4492.458214360271, 5169.9372911256405, 3488.1585187816186, 2407.918794485802], [6, 1924.6240815733204, 14455.11937212132, 12233.959804503613, 7718.222009696623, 4404.562590797219, 0.0, 1182.864189045907, 1615.7882361392917, 1313.3274934048693, 2153.771471752397], [7, 1100.8590503593277, 14682.450992891092, 13208.002933714424, 7957.775949135465, 4492.458214360271, 1182.864189045907, 0.0, 698.4881359277906, 1010.1976652126849, 2085.4606764072964], [8, 402.89054961102914, 15362.417960805125, 13786.484182516106, 8644.807041005524, 5169.9372911256405, 1615.7882361392917, 698.4881359277906, 0.0, 1702.7926583344838, 2768.6077191659247], [9, 2105.4425755929597, 13674.707531226235, 12508.95738096874, 6947.820636329124, 3488.1585187816186, 1313.3274934048693, 1010.1976652126849, 1702.7926583344838, 0.0, 1080.534943939508], [10, 3169.003772849924, 12597.039559531104, 11938.376127029482, 5876.330199605868, 2407.918794485802, 2153.771471752397, 2085.4606764072964, 2768.6077191659247, 1080.534943939508, 0.0]]\n"
     ]
    }
   ],
   "source": [
    "euc_c2_euc = temp_c2.map(Euc_Dist).collect()\n",
    "print(euc_c2_euc)"
   ]
  },
  {
   "cell_type": "markdown",
   "metadata": {},
   "source": [
    "## 寫入csv檔"
   ]
  },
  {
   "cell_type": "code",
   "execution_count": 28,
   "metadata": {},
   "outputs": [],
   "source": [
    "with open('./euc_c2_euc.csv', 'w', newline='') as csvFile:\n",
    "    fields = ['Euclidean', '1', '2', '3', '4', '5', '6', '7', '8', '9', '10']\n",
    "    writer = csv.DictWriter(csvFile, fieldnames=fields)\n",
    "    writer.writeheader()\n",
    "    for i in euc_c2_euc:\n",
    "        writer.writerow({'Euclidean':i[0], '1':i[1], '2':i[2], '3':i[3], '4':i[4], '5':i[5], '6':i[6], '7':i[7], '8':i[8], '9':i[9], '10':i[10]})"
   ]
  },
  {
   "cell_type": "markdown",
   "metadata": {},
   "source": [
    "## 計算各個centroid之間的Manhattan距離"
   ]
  },
  {
   "cell_type": "code",
   "execution_count": 29,
   "metadata": {},
   "outputs": [
    {
     "name": "stdout",
     "output_type": "stream",
     "text": [
      "[[1, 0.0, 15772.614899885255, 20215.645980206544, 9533.17084939759, 5604.200489099255, 3088.0543184882386, 1311.039156985083, 471.26571999995156, 2369.4121590413606, 3349.657086008631], [2, 15772.614899885255, 0.0, 16003.499, 7219.196666666668, 10221.031, 16105.3475, 14909.169510714286, 15434.460040787624, 13950.575945454546, 12776.883065217391], [3, 20215.645980206544, 16003.499, 0.0, 10690.484333333334, 14613.552, 17509.90275, 18912.605410714285, 19748.93569338959, 17851.806836363638, 16873.243673913043], [4, 9533.17084939759, 7219.196666666668, 10690.484333333334, 0.0, 3935.2926666666663, 8896.389208333332, 8228.355075, 9065.404333333334, 7168.732963636363, 6190.679311594203], [5, 5604.200489099255, 10221.031, 14613.552, 3935.2926666666663, 0.0, 5893.070125, 4696.975382142857, 5221.252805907173, 3737.707, 2564.1705434782607], [6, 3088.0543184882386, 16105.3475, 17509.90275, 8896.389208333332, 5893.070125, 0.0, 1781.8226714285715, 2619.8113862517584, 2162.8021454545456, 3337.7462608695655], [7, 1311.039156985083, 14909.169510714286, 18912.605410714285, 8228.355075, 4696.975382142857, 1781.8226714285715, 0.0, 840.7225236939923, 1068.9399724025977, 2137.7882566770186], [8, 471.26571999995156, 15434.460040787624, 19748.93569338959, 9065.404333333334, 5221.252805907173, 2619.8113862517584, 840.7225236939923, 0.0, 1901.208756322721, 2883.734536812817], [9, 2369.4121590413606, 13950.575945454546, 17851.806836363638, 7168.732963636363, 3737.707, 2162.8021454545456, 1068.9399724025977, 1901.208756322721, 0.0, 1176.4504256916996], [10, 3349.657086008631, 12776.883065217391, 16873.243673913043, 6190.679311594203, 2564.1705434782607, 3337.7462608695655, 2137.7882566770186, 2883.734536812817, 1176.4504256916996, 0.0]]\n"
     ]
    }
   ],
   "source": [
    "euc_c2_man = temp_c2.map(Man_Dist).collect()\n",
    "print(euc_c2_man)"
   ]
  },
  {
   "cell_type": "markdown",
   "metadata": {},
   "source": [
    "## 寫入csv檔"
   ]
  },
  {
   "cell_type": "code",
   "execution_count": 30,
   "metadata": {},
   "outputs": [],
   "source": [
    "with open('./euc_c2_man.csv', 'w', newline='') as csvFile:\n",
    "    fields = ['Manhattan', '1', '2', '3', '4', '5', '6', '7', '8', '9', '10']\n",
    "    writer = csv.DictWriter(csvFile, fieldnames=fields)\n",
    "    writer.writeheader()\n",
    "    for i in euc_c2_man:\n",
    "        writer.writerow({'Manhattan':i[0], '1':i[1], '2':i[2], '3':i[3], '4':i[4], '5':i[5], '6':i[6], '7':i[7], '8':i[8], '9':i[9], '10':i[10]})"
   ]
  },
  {
   "cell_type": "markdown",
   "metadata": {},
   "source": [
    "## 計算percentage improvement values"
   ]
  },
  {
   "cell_type": "code",
   "execution_count": 31,
   "metadata": {},
   "outputs": [
    {
     "name": "stdout",
     "output_type": "stream",
     "text": [
      "C1: 26.885383292518288%\n",
      "C2: 79.43775029159899%\n"
     ]
    }
   ],
   "source": [
    "euc_c1_improve = abs(euc_c1_cost20[19] - euc_c1_cost20[0]) / euc_c1_cost20[0] * 100\n",
    "print('C1: ' + str(euc_c1_improve) + '%')\n",
    "euc_c2_improve = abs(euc_c2_cost20[19] - euc_c2_cost20[0]) / euc_c2_cost20[0] * 100\n",
    "print('C2: ' + str(euc_c2_improve) + '%')"
   ]
  },
  {
   "cell_type": "markdown",
   "metadata": {},
   "source": [
    "## 以上做完(a)小題\n",
    "## 以下開始(b)小題\n",
    "* 作法完全相同，只有計算distance的方式改變，所以就不贅述"
   ]
  },
  {
   "cell_type": "code",
   "execution_count": 32,
   "metadata": {},
   "outputs": [],
   "source": [
    "c1 = sc.textFile(\"./hw3-q2-kmeans/c1.txt\").map(lambda x: x.split(' ')).map(str_float).groupByKey().mapValues(list)\n",
    "c2 = sc.textFile(\"./hw3-q2-kmeans/c2.txt\").map(lambda x: x.split(' ')).map(str_float).groupByKey().mapValues(list)\n",
    "man_c1 = data.join(c1).map(Man_Mapper).groupByKey().mapValues(list)\n",
    "man_c1_cost = data.join(c1).map(Man_Cost).reduceByKey(lambda x, y: x + y)\n",
    "man_c2 = data.join(c2).map(Man_Mapper).groupByKey().mapValues(list)\n",
    "man_c2_cost = data.join(c2).map(Man_Cost).reduceByKey(lambda x, y: x + y)"
   ]
  },
  {
   "cell_type": "code",
   "execution_count": 33,
   "metadata": {},
   "outputs": [
    {
     "name": "stdout",
     "output_type": "stream",
     "text": [
      "[550117.1420000045, 464869.27587929845, 470897.3822772998, 483914.40917334514, 489216.0710034315, 487629.6685499822, 483711.9232137478, 475330.7734932305, 474871.2388463643, 457232.92011507344, 447494.38619734696, 450915.0125766772, 451250.3670725656, 451974.5955397487, 451570.3640699583, 452739.0113664558, 453082.7302871829, 450583.67086030025, 450368.7493167392, 449011.3637255198]\n",
      "[1433739.3099999938, 1084488.7769648738, 973431.7146620394, 895934.5925630673, 865128.3352940796, 845846.6470313473, 827219.5827561237, 803590.3456011107, 756039.5172761244, 717332.9025432297, 694587.9252526843, 684444.5019967925, 674574.7475478566, 667409.469916026, 663556.6278214998, 660162.777228758, 656041.3222947085, 653036.7540731638, 651112.4262522653, 649689.0131843556]\n"
     ]
    }
   ],
   "source": [
    "for i in range(19):\n",
    "    c1 = man_c1.map(new_centroid).sortByKey(ascending=True).map(lambda x: (-1, x[1])).groupByKey().mapValues(list)\n",
    "    man_c1 = data.join(c1).map(Man_Mapper).groupByKey().mapValues(list)\n",
    "    cost = data.join(c1).map(Man_Cost).reduceByKey(lambda x, y: x + y)\n",
    "    man_c1_cost = man_c1_cost.union(cost)\n",
    "    if i == 18:\n",
    "        c1 = man_c1.map(new_centroid).sortByKey(ascending=True).mapValues(list)\n",
    "man_c1_cost20 = man_c1_cost.map(lambda x: x[1]).collect()\n",
    "print(man_c1_cost20)\n",
    "\n",
    "for i in range(19):\n",
    "    c2 = man_c2.map(new_centroid).sortByKey(ascending=True).map(lambda x: (-1, x[1])).groupByKey().mapValues(list)\n",
    "    man_c2 = data.join(c2).map(Man_Mapper).groupByKey().mapValues(list)\n",
    "    cost = data.join(c2).map(Man_Cost).reduceByKey(lambda x, y: x + y)\n",
    "    man_c2_cost = man_c2_cost.union(cost)\n",
    "    if i == 18:\n",
    "        c2 = man_c2.map(new_centroid).sortByKey(ascending=True).mapValues(list)\n",
    "man_c2_cost20 = man_c2_cost.map(lambda x: x[1]).collect()\n",
    "print(man_c2_cost20)"
   ]
  },
  {
   "cell_type": "code",
   "execution_count": 34,
   "metadata": {},
   "outputs": [
    {
     "name": "stdout",
     "output_type": "stream",
     "text": [
      "                     C1            C2\n",
      "Round 1   550117.142000  1.433739e+06\n",
      "Round 2   464869.275879  1.084489e+06\n",
      "Round 3   470897.382277  9.734317e+05\n",
      "Round 4   483914.409173  8.959346e+05\n",
      "Round 5   489216.071003  8.651283e+05\n",
      "Round 6   487629.668550  8.458466e+05\n",
      "Round 7   483711.923214  8.272196e+05\n",
      "Round 8   475330.773493  8.035903e+05\n",
      "Round 9   474871.238846  7.560395e+05\n",
      "Round 10  457232.920115  7.173329e+05\n",
      "Round 11  447494.386197  6.945879e+05\n",
      "Round 12  450915.012577  6.844445e+05\n",
      "Round 13  451250.367073  6.745747e+05\n",
      "Round 14  451974.595540  6.674095e+05\n",
      "Round 15  451570.364070  6.635566e+05\n",
      "Round 16  452739.011366  6.601628e+05\n",
      "Round 17  453082.730287  6.560413e+05\n",
      "Round 18  450583.670860  6.530368e+05\n",
      "Round 19  450368.749317  6.511124e+05\n",
      "Round 20  449011.363726  6.496890e+05\n"
     ]
    },
    {
     "data": {
      "image/png": "[encoded data removed]",
      "text/plain": [
       "<Figure size 900x600 with 1 Axes>"
      ]
     },
     "metadata": {
      "needs_background": "light"
     },
     "output_type": "display_data"
    }
   ],
   "source": [
    "Round = []\n",
    "for i in range(20):\n",
    "    Round.append('Round ' + str(i+1))\n",
    "    \n",
    "dic = {'C1': man_c1_cost20, 'C2': man_c2_cost20}\n",
    "df = pd.DataFrame(dic, index = Round)\n",
    "print(df)\n",
    "\n",
    "Round = []\n",
    "for i in range(20):\n",
    "    Round.append(str(i))\n",
    "    \n",
    "plt.figure(figsize=(9, 6), dpi = 100, linewidth = 2)\n",
    "plt.plot(Round, man_c1_cost20, 's-', color = 'b', label = \"C1\")\n",
    "plt.plot(Round, man_c2_cost20, 'o-', color = 'y', label = \"C2\")\n",
    "plt.title('C1 v.s. C2\\nManhattan Cost Function')\n",
    "plt.xlabel('Round')\n",
    "plt.ylabel('Cost')\n",
    "plt.legend(loc = 'best')\n",
    "plt.show()"
   ]
  },
  {
   "cell_type": "code",
   "execution_count": 35,
   "metadata": {},
   "outputs": [
    {
     "name": "stdout",
     "output_type": "stream",
     "text": [
      "[[1, 0.0, 2219.1772770509865, 9948.044077639335, 528.6997575475606, 413.3650612071161, 827.7188856579816, 681.0349895443137, 917.127382961168, 832.1474343052389, 729.0563485517976], [2, 2219.1772770509865, 0.0, 7767.945602579569, 2734.0498544640413, 2628.4908097297634, 3044.4778721252733, 2898.7128939326617, 3133.460130173686, 1812.4545744763466, 1491.3573457511582], [3, 9948.044077639335, 7767.945602579569, 0.0, 10433.061351319797, 10361.367486044566, 10773.530838116945, 10626.48859681842, 10862.965776276442, 9340.275232170257, 9236.840021697923], [4, 528.6997575475606, 2734.0498544640413, 10433.061351319797, 0.0, 221.37279398782263, 375.1561884837036, 249.3791882654921, 457.25965255434755, 1156.5833757939854, 1251.1583460671166], [5, 413.3650612071161, 2628.4908097297634, 10361.367486044566, 221.37279398782263, 0.0, 415.9899852468605, 270.74879157775905, 505.07106661337866, 1171.964205896139, 1137.135265913954], [6, 827.7188856579816, 3044.4778721252733, 10773.530838116945, 375.1561884837036, 415.9899852468605, 0.0, 147.04697388149492, 89.4909165524104, 1529.4640115204097, 1553.1238066646654], [7, 681.0349895443137, 2898.7128939326617, 10626.48859681842, 249.3791882654921, 270.74879157775905, 147.04697388149492, 0.0, 236.51462239245419, 1391.550421146714, 1407.404400267174], [8, 917.127382961168, 3133.460130173686, 10862.965776276442, 457.25965255434755, 505.07106661337866, 89.4909165524104, 236.51462239245419, 0.0, 1613.555789411286, 1642.1286873773308], [9, 832.1474343052389, 1812.4545744763466, 9340.275232170257, 1156.5833757939854, 1171.964205896139, 1529.4640115204097, 1391.550421146714, 1613.555789411286, 0.0, 709.4077855501387], [10, 729.0563485517976, 1491.3573457511582, 9236.840021697923, 1251.1583460671166, 1137.135265913954, 1553.1238066646654, 1407.404400267174, 1642.1286873773308, 709.4077855501387, 0.0]]\n",
      "[[1, 0.0, 2341.017218605991, 11929.300151785714, 651.187488095238, 496.33152119047617, 947.7432364650634, 770.7373834915085, 1056.7995006298163, 1260.5105607142857, 737.7135730519481], [2, 2341.017218605991, 0.0, 9597.441187096774, 2778.9457620967737, 2830.1445281720426, 3280.3591681796074, 3104.2857711482065, 3388.9826482565923, 2380.460958064516, 1605.2701287064187], [3, 11929.300151785714, 9597.441187096774, 0.0, 12323.287569444445, 12421.263079999999, 12871.483428978225, 12695.554202097901, 12979.13318018672, 10775.939185714284, 11196.78698181818], [4, 651.187488095238, 2778.9457620967737, 12323.287569444445, 0.0, 335.951213, 558.4692581658292, 382.4633301282051, 667.5332295988935, 1653.8258869047618, 1379.165172979798], [5, 496.33152119047617, 2830.1445281720426, 12421.263079999999, 335.951213, 0.0, 452.86133068676713, 276.3264914965034, 561.8492485408023, 1755.105532761905, 1226.6603546666668], [6, 947.7432364650634, 3280.3591681796074, 12871.483428978225, 558.4692581658292, 452.86133068676713, 0.0, 177.59316237363976, 110.21762404606017, 2205.3073830102894, 1677.666863534846], [7, 770.7373834915085, 3104.2857711482065, 12695.554202097901, 382.4633301282051, 276.3264914965034, 177.59316237363976, 0.0, 287.42970773365636, 2028.901615784216, 1500.9934102564105], [8, 1056.7995006298163, 3388.9826482565923, 12979.13318018672, 667.5332295988935, 561.8492485408023, 110.21762404606017, 287.42970773365636, 0.0, 2314.667454756965, 1786.8113163428895], [9, 1260.5105607142857, 2380.460958064516, 10775.939185714284, 1653.8258869047618, 1755.105532761905, 2205.3073830102894, 2028.901615784216, 2314.667454756965, 0.0, 1006.3678264069263], [10, 737.7135730519481, 1605.2701287064187, 11196.78698181818, 1379.165172979798, 1226.6603546666668, 1677.666863534846, 1500.9934102564105, 1786.8113163428895, 1006.3678264069263, 0.0]]\n",
      "[[1, 0.0, 15747.234225995131, 14100.144687804226, 9032.333022974994, 5554.786693382845, 2006.7026683699517, 1338.161125522521, 514.627037539365, 1571.2434198098995, 3022.6608840606823], [2, 15747.234225995131, 0.0, 11524.505650179837, 6743.88410019246, 10192.525007384162, 14474.554115568231, 14412.056615494355, 15239.87707116475, 14328.226191823098, 12731.397634823861], [3, 14100.144687804226, 11524.505650179837, 0.0, 9545.879403387185, 10883.382187801386, 12167.79387138704, 13125.351004065811, 13684.606757319763, 12643.985638343242, 12006.39461776129], [4, 9032.333022974994, 6743.88410019246, 9545.879403387185, 0.0, 3494.2224155718104, 7742.6281172713425, 7694.276701483224, 8521.197863130883, 7588.404540222487, 6009.820222838373], [5, 5554.786693382845, 10192.525007384162, 10883.382187801386, 3494.2224155718104, 0.0, 4452.971684507903, 4219.760574098205, 5047.516256062294, 4167.636533016605, 2542.5693542004556], [6, 2006.7026683699517, 14474.554115568231, 12167.79387138704, 7742.6281172713425, 4452.971684507903, 0.0, 1405.1090803330765, 1637.7294382123869, 910.9943878357352, 2124.2633623517277], [7, 1338.161125522521, 14412.056615494355, 13125.351004065811, 7694.276701483224, 4219.760574098205, 1405.1090803330765, 0.0, 827.840658014979, 566.5510174100833, 1684.516011855046], [8, 514.627037539365, 15239.87707116475, 13684.606757319763, 8521.197863130883, 5047.516256062294, 1637.7294382123869, 827.840658014979, 0.0, 1081.3793348240201, 2511.458858671225], [9, 1571.2434198098995, 14328.226191823098, 12643.985638343242, 7588.404540222487, 4167.636533016605, 910.9943878357352, 566.5510174100833, 1081.3793348240201, 0.0, 1649.3891719444812], [10, 3022.6608840606823, 12731.397634823861, 12006.39461776129, 6009.820222838373, 2542.5693542004556, 2124.2633623517277, 1684.516011855046, 2511.458858671225, 1649.3891719444812, 0.0]]\n",
      "[[1, 0.0, 15757.691264458323, 20200.259435786043, 9517.668232509728, 5588.853634537063, 3281.488246764413, 1430.2086778758846, 602.9548488263027, 2102.553977579326, 3211.4557560606645], [2, 15757.691264458323, 0.0, 16003.499, 7219.196666666668, 10221.031, 16325.2705, 14506.48588961039, 15335.957402597402, 14980.056095890412, 12922.931357142857], [3, 20200.259435786043, 16003.499, 0.0, 10690.484333333334, 14613.552, 17521.517666666663, 18775.12146103896, 19602.262814935064, 18111.885424657536, 16995.133535714285], [4, 9517.668232509728, 7219.196666666668, 10690.484333333334, 0.0, 3935.2926666666663, 9116.0245, 8090.510188311688, 8918.813116883115, 7771.22207762557, 6312.5300119047615], [5, 5588.853634537063, 10221.031, 14613.552, 3935.2926666666663, 0.0, 6110.8325, 4293.5019025974025, 5123.066808441558, 4768.923, 2710.0564999999997], [6, 3281.488246764413, 16325.2705, 17521.517666666663, 9116.0245, 6110.8325, 0.0, 1855.5799090909088, 2682.5692337662335, 1358.795894977169, 3413.0361785714285], [7, 1430.2086778758846, 14506.48588961039, 18775.12146103896, 8090.510188311688, 4293.5019025974025, 1855.5799090909088, 0.0, 833.4302824675323, 674.8275699163852, 1784.5120454545456], [8, 602.9548488263027, 15335.957402597402, 19602.262814935064, 8918.813116883115, 5123.066808441558, 2682.5692337662335, 833.4302824675323, 0.0, 1500.824883695072, 2613.9973051948054], [9, 2102.553977579326, 14980.056095890412, 18111.885424657536, 7771.22207762557, 4768.923, 1358.795894977169, 674.8275699163852, 1500.824883695072, 0.0, 2062.251068003914], [10, 3211.4557560606645, 12922.931357142857, 16995.133535714285, 6312.5300119047615, 2710.0564999999997, 3413.0361785714285, 1784.5120454545456, 2613.9973051948054, 2062.251068003914, 0.0]]\n"
     ]
    }
   ],
   "source": [
    "temp_c1 = c1\n",
    "for i in range(10):\n",
    "    c1_20 = c1.map(lambda x: (i, x[1]))\n",
    "    temp_c1 = temp_c1.union(c1_20).reduceByKey(lambda x, y: x + y)\n",
    "man_c1_euc = temp_c1.map(Euc_Dist).collect()\n",
    "print(man_c1_euc)\n",
    "man_c1_man = temp_c1.map(Man_Dist).collect()\n",
    "print(man_c1_man)\n",
    "\n",
    "temp_c2 = c2\n",
    "for i in range(10):\n",
    "    c2_20 = c2.map(lambda x: (i, x[1]))\n",
    "    temp_c2 = temp_c2.union(c2_20).reduceByKey(lambda x, y: x + y)\n",
    "man_c2_euc = temp_c2.map(Euc_Dist).collect()\n",
    "print(man_c2_euc)\n",
    "man_c2_man = temp_c2.map(Man_Dist).collect()\n",
    "print(man_c2_man)"
   ]
  },
  {
   "cell_type": "code",
   "execution_count": 36,
   "metadata": {},
   "outputs": [],
   "source": [
    "with open('./man_c1_euc.csv', 'w', newline='') as csvFile:\n",
    "    fields = ['Euclidean', '1', '2', '3', '4', '5', '6', '7', '8', '9', '10']\n",
    "    writer = csv.DictWriter(csvFile, fieldnames=fields)\n",
    "    writer.writeheader()\n",
    "    for i in man_c1_euc:\n",
    "        writer.writerow({'Euclidean':i[0], '1':i[1], '2':i[2], '3':i[3], '4':i[4], '5':i[5], '6':i[6], '7':i[7], '8':i[8], '9':i[9], '10':i[10]})\n",
    "\n",
    "\n",
    "with open('./man_c1_man.csv', 'w', newline='') as csvFile:\n",
    "    fields = ['Manhattan', '1', '2', '3', '4', '5', '6', '7', '8', '9', '10']\n",
    "    writer = csv.DictWriter(csvFile, fieldnames=fields)\n",
    "    writer.writeheader()\n",
    "    for i in man_c1_man:\n",
    "        writer.writerow({'Manhattan':i[0], '1':i[1], '2':i[2], '3':i[3], '4':i[4], '5':i[5], '6':i[6], '7':i[7], '8':i[8], '9':i[9], '10':i[10]})\n",
    "\n",
    "with open('./msn_c2_euc.csv', 'w', newline='') as csvFile:\n",
    "    fields = ['Euclidean', '1', '2', '3', '4', '5', '6', '7', '8', '9', '10']\n",
    "    writer = csv.DictWriter(csvFile, fieldnames=fields)\n",
    "    writer.writeheader()\n",
    "    for i in man_c2_euc:\n",
    "        writer.writerow({'Euclidean':i[0], '1':i[1], '2':i[2], '3':i[3], '4':i[4], '5':i[5], '6':i[6], '7':i[7], '8':i[8], '9':i[9], '10':i[10]})\n",
    "\n",
    "with open('./man_c2_man.csv', 'w', newline='') as csvFile:\n",
    "    fields = ['Manhattan', '1', '2', '3', '4', '5', '6', '7', '8', '9', '10']\n",
    "    writer = csv.DictWriter(csvFile, fieldnames=fields)\n",
    "    writer.writeheader()\n",
    "    for i in man_c2_man:\n",
    "        writer.writerow({'Manhattan':i[0], '1':i[1], '2':i[2], '3':i[3], '4':i[4], '5':i[5], '6':i[6], '7':i[7], '8':i[8], '9':i[9], '10':i[10]})"
   ]
  },
  {
   "cell_type": "code",
   "execution_count": 37,
   "metadata": {},
   "outputs": [
    {
     "name": "stdout",
     "output_type": "stream",
     "text": [
      "C1: 18.378954327237434%\n",
      "C2: 54.68569434813374%\n"
     ]
    }
   ],
   "source": [
    "man_c1_improve = abs(man_c1_cost20[19] - man_c1_cost20[0]) / man_c1_cost20[0] * 100\n",
    "print('C1: ' + str(man_c1_improve) + '%')\n",
    "man_c2_improve = abs(man_c2_cost20[19] - man_c2_cost20[0]) / man_c2_cost20[0] * 100\n",
    "print('C2: ' + str(man_c2_improve) + '%')"
   ]
  }
 ],
 "metadata": {
  "kernelspec": {
   "display_name": "Python 3",
   "language": "python",
   "name": "python3"
  },
  "language_info": {
   "codemirror_mode": {
    "name": "ipython",
    "version": 3
   },
   "file_extension": ".py",
   "mimetype": "text/x-python",
   "name": "python",
   "nbconvert_exporter": "python",
   "pygments_lexer": "ipython3",
   "version": "3.6.7"
  }
 },
 "nbformat": 4,
 "nbformat_minor": 4
}
